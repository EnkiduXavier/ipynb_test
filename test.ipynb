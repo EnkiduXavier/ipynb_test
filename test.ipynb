import numpy as np

a = np.array([5, 4])
print a
